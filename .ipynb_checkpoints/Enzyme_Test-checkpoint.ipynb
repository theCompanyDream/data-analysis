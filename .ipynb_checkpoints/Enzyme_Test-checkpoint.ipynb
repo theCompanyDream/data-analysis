{
 "cells": [
  {
   "cell_type": "code",
   "execution_count": 163,
   "id": "ff3ad0dc-d094-4d82-8cf5-bd4f511bfcf4",
   "metadata": {},
   "outputs": [],
   "source": [
    "import pandas as pd\n",
    "import numpy as np\n",
    "from geopy import distance"
   ]
  },
  {
   "cell_type": "code",
   "execution_count": 177,
   "id": "af3e07dd-2419-4b04-9b21-41b45adb6f77",
   "metadata": {},
   "outputs": [
    {
     "name": "stderr",
     "output_type": "stream",
     "text": [
      "<ipython-input-177-100c63fe66bd>:10: FutureWarning: Dropping of nuisance columns in DataFrame reductions (with 'numeric_only=None') is deprecated; in a future version this will raise TypeError.  Select only valid columns before calling the reduction.\n",
      "  data.min()\n"
     ]
    },
    {
     "data": {
      "text/plain": [
       "objectid                                                                  364218\n",
       "applicant                                                           Alfaro Truck\n",
       "cnn                                                                            0\n",
       "address                                                                1 BUSH ST\n",
       "permit                                                                12MFF-0083\n",
       "status                                                                  APPROVED\n",
       "x                                                                    5980806.006\n",
       "y                                                                    2086365.377\n",
       "latitude                                                                     0.0\n",
       "longitude                                                            -122.509596\n",
       "schedule                       http://bsm.sfdpw.org/PermitsTracker/reports/re...\n",
       "received                                                                20120403\n",
       "priorpermit                                                                    0\n",
       ":@computed_region_yftq_j783                                                  1.0\n",
       ":@computed_region_p5aj_wyqh                                                  1.0\n",
       ":@computed_region_rxqg_mtj9                                                  1.0\n",
       ":@computed_region_bh8s_q3mv                                                 54.0\n",
       ":@computed_region_fyvs_ahh9                                                  1.0\n",
       "points                                                                (0.0, 0.0)\n",
       "distance                                                             5385.207102\n",
       "dtype: object"
      ]
     },
     "execution_count": 177,
     "metadata": {},
     "output_type": "execute_result"
    }
   ],
   "source": [
    "# location of json file\n",
    "data = pd.read_json('rqzj-sfat.json')\n",
    "# Location of union square\n",
    "union_square_loc = (40.7359, 73.9911)\n",
    "\n",
    "def get_distance(start, destination):\n",
    "    return distance.distance(start, destination).miles\n",
    "\n",
    "data['points'] = (tuple(zip( data['latitude'], data['longitude'])))\n",
    "data['distance'] = data['points'].apply(lambda row: get_distance(union_square_loc, row))\n",
    "data.min()"
   ]
  },
  {
   "cell_type": "code",
   "execution_count": null,
   "id": "aa22fd6f-7ec0-47f5-a537-6f5655259323",
   "metadata": {},
   "outputs": [],
   "source": []
  }
 ],
 "metadata": {
  "kernelspec": {
   "display_name": "Python 3",
   "language": "python",
   "name": "python3"
  },
  "language_info": {
   "codemirror_mode": {
    "name": "ipython",
    "version": 3
   },
   "file_extension": ".py",
   "mimetype": "text/x-python",
   "name": "python",
   "nbconvert_exporter": "python",
   "pygments_lexer": "ipython3",
   "version": "3.9.6"
  }
 },
 "nbformat": 4,
 "nbformat_minor": 5
}
