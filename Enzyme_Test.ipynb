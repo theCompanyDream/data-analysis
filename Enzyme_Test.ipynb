{
 "cells": [
  {
   "cell_type": "code",
   "execution_count": 163,
   "id": "ff3ad0dc-d094-4d82-8cf5-bd4f511bfcf4",
   "metadata": {},
   "outputs": [],
   "source": [
    "import pandas as pd\n",
    "import numpy as np\n",
    "from geopy import distance"
   ]
  },
  {
   "cell_type": "code",
   "execution_count": 175,
   "id": "af3e07dd-2419-4b04-9b21-41b45adb6f77",
   "metadata": {},
   "outputs": [],
   "source": [
    "data = pd.read_json('rqzj-sfat.json')\n",
    "\n",
    "union_square_loc = (40.7359, 73.9911)\n",
    "\n",
    "def get_distance(start, destination):\n",
    "    return distance.distance(start, destination).miles\n",
    "\n",
    "data['points'] = (tuple(zip( data['latitude'], data['longitude'])))\n",
    "data['distance'] = data['points'].apply(lambda row: get_distance(union_square_loc, row))\n",
    "# data.min(axis=1)"
   ]
  },
  {
   "cell_type": "code",
   "execution_count": null,
   "id": "aa22fd6f-7ec0-47f5-a537-6f5655259323",
   "metadata": {},
   "outputs": [],
   "source": []
  }
 ],
 "metadata": {
  "kernelspec": {
   "display_name": "Python 3",
   "language": "python",
   "name": "python3"
  },
  "language_info": {
   "codemirror_mode": {
    "name": "ipython",
    "version": 3
   },
   "file_extension": ".py",
   "mimetype": "text/x-python",
   "name": "python",
   "nbconvert_exporter": "python",
   "pygments_lexer": "ipython3",
   "version": "3.9.6"
  }
 },
 "nbformat": 4,
 "nbformat_minor": 5
}
